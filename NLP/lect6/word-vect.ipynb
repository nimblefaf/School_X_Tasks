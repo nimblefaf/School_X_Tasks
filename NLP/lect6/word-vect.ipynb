{
 "cells": [
  {
   "cell_type": "markdown",
   "metadata": {},
   "source": []
  },
  {
   "cell_type": "code",
   "execution_count": 2,
   "metadata": {},
   "outputs": [],
   "source": [
    "import gensim.downloader"
   ]
  },
  {
   "cell_type": "code",
   "execution_count": 3,
   "metadata": {},
   "outputs": [
    {
     "data": {
      "text/plain": [
       "['fasttext-wiki-news-subwords-300',\n",
       " 'conceptnet-numberbatch-17-06-300',\n",
       " 'word2vec-ruscorpora-300',\n",
       " 'word2vec-google-news-300',\n",
       " 'glove-wiki-gigaword-50',\n",
       " 'glove-wiki-gigaword-100',\n",
       " 'glove-wiki-gigaword-200',\n",
       " 'glove-wiki-gigaword-300',\n",
       " 'glove-twitter-25',\n",
       " 'glove-twitter-50',\n",
       " 'glove-twitter-100',\n",
       " 'glove-twitter-200',\n",
       " '__testing_word2vec-matrix-synopsis']"
      ]
     },
     "execution_count": 3,
     "metadata": {},
     "output_type": "execute_result"
    }
   ],
   "source": [
    "list(gensim.downloader.info()['models'].keys())"
   ]
  },
  {
   "cell_type": "code",
   "execution_count": 4,
   "metadata": {},
   "outputs": [
    {
     "name": "stdout",
     "output_type": "stream",
     "text": [
      "[==================================================] 100.0% 198.8/198.8MB downloaded\n"
     ]
    }
   ],
   "source": [
    "word2vec_rus = gensim.downloader.load('word2vec-ruscorpora-300')"
   ]
  },
  {
   "cell_type": "code",
   "execution_count": 5,
   "metadata": {},
   "outputs": [],
   "source": [
    "word2vec_rus = gensim.downloader.load('word2vec-ruscorpora-300')"
   ]
  },
  {
   "cell_type": "code",
   "execution_count": 8,
   "metadata": {},
   "outputs": [
    {
     "data": {
      "text/plain": [
       "181426"
      ]
     },
     "execution_count": 8,
     "metadata": {},
     "output_type": "execute_result"
    }
   ],
   "source": [
    "text = ''\n",
    "path = 'C:\\\\Users\\\\user\\\\Desktop\\\\DeepAutomation\\\\NLP\\\\Texts\\\\Царь-рыба (1976).txt'\n",
    "with open(path) as f:\n",
    "        text = ' '.join(f.readlines())\n",
    "len(text)"
   ]
  },
  {
   "cell_type": "code",
   "execution_count": 10,
   "metadata": {},
   "outputs": [
    {
     "name": "stdout",
     "output_type": "stream",
     "text": [
      "гнями бакенов, до дна пробитой золотыми каплями звезд; слушать не только плеск волн, шум ветра, гул тайги, но и неторопливые рассказы людей у костра на природе, по-особенному открытых, рассказы, откровения, воспоминания до темнозори, а то и до утра, занимающегося спокойным светом за дальними перевалами, пока из ничего не возникнут, не наползут липкие туманы, и слова сделаются вязкими, тяжелыми, язык неповоротлив, и огонек притухнет, и все в природе обретет ту долгожданную миротворность, когда слышно лишь младенчески чистую душу ее. В такие минуты остаешься как бы один на один с природою и с чуть боязной тайной радостью ощутишь: можно и нужно наконец-то довериться всему, что есть вокруг, и незаметно для себя отмякнешь, словно лист или травинка под росою, уснешь легко, крепко и, засыпая до первого луча, до пробного птичьего перебора у летней воды, с вечера хранящей парное тепло, улыбнешься давно забытому чувству – так вот вольно было тебе, когда ты никакими еще воспоминаниями не нагрузил\n"
     ]
    }
   ],
   "source": [
    "print(text[1000:2000])"
   ]
  },
  {
   "cell_type": "code",
   "execution_count": null,
   "metadata": {},
   "outputs": [],
   "source": []
  }
 ],
 "metadata": {
  "kernelspec": {
   "display_name": "Python 3",
   "language": "python",
   "name": "python3"
  },
  "language_info": {
   "codemirror_mode": {
    "name": "ipython",
    "version": 3
   },
   "file_extension": ".py",
   "mimetype": "text/x-python",
   "name": "python",
   "nbconvert_exporter": "python",
   "pygments_lexer": "ipython3",
   "version": "3.11.5"
  }
 },
 "nbformat": 4,
 "nbformat_minor": 2
}
