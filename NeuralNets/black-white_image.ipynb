{
 "cells": [
  {
   "cell_type": "markdown",
   "metadata": {},
   "source": []
  },
  {
   "cell_type": "code",
   "execution_count": 1,
   "metadata": {},
   "outputs": [],
   "source": [
    "import torch.nn as nn"
   ]
  },
  {
   "cell_type": "code",
   "execution_count": null,
   "metadata": {},
   "outputs": [],
   "source": [
    "class CVModel(nn.Module):\n",
    "    def __init__(self):\n",
    "        self.conv_1 = nn.Conv2d(1, 32, (3, 3))\n",
    "        self.conv_2 = nn.Conv2d(32, 64, (3, 3))\n",
    "        self.pool_1 = nn.MaxPool2d((2, 2))\n",
    "        self.conv_3 = nn.Conv2d(64, 128, (3, 3))\n",
    "        self.conv_4 = nn.Conv2d(128, 128, (2, 2))\n",
    "        self.pool_2 = nn.MaxPool2d(2, 2)\n",
    "        self.glov_pool = nn.MaxPool2d(28, 28)\n",
    "        self.linear = nn.Linear(128, 26)\n",
    "        self.softmax = nn.Softmax()"
   ]
  }
 ],
 "metadata": {
  "kernelspec": {
   "display_name": "Python 3",
   "language": "python",
   "name": "python3"
  },
  "language_info": {
   "codemirror_mode": {
    "name": "ipython",
    "version": 3
   },
   "file_extension": ".py",
   "mimetype": "text/x-python",
   "name": "python",
   "nbconvert_exporter": "python",
   "pygments_lexer": "ipython3",
   "version": "3.11.5"
  }
 },
 "nbformat": 4,
 "nbformat_minor": 2
}
