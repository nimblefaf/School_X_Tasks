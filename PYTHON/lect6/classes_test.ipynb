{
 "cells": [
  {
   "cell_type": "code",
   "execution_count": 38,
   "id": "4f8f264e-2ab9-4a02-a3b2-25dcb2960c09",
   "metadata": {},
   "outputs": [],
   "source": [
    "class human:\n",
    "    weight: float | int = 70\n",
    "    height: float | int = 170\n",
    "    name: str = None\n",
    "    iq: int = 100\n",
    "\n",
    "    def __init__(\n",
    "        self,\n",
    "        weight: float | int,\n",
    "        height: float | int,\n",
    "        name: str\n",
    "    ):\n",
    "        weight = 70\n",
    "        height = 170\n",
    "        name = \"Имярек\"\n",
    "    \n",
    "\n",
    "    def walk(self, speed: float | int = 1.0):\n",
    "        print(f\"Я иду со скоростью {self.speed}\")\n",
    "    def run(self):\n",
    "        if self.weight > 100:\n",
    "            print(\"Я не могу бегать\")\n",
    "        else:\n",
    "            print(\"Я бегу\")\n",
    "    def breathe(self):\n",
    "        if self.height > 200:\n",
    "            print(\"Тут наверху нет воздуха чтобы дышать\")\n",
    "        elif self.weight > 150:\n",
    "            print(\"Мне просто сложно дышать\")\n",
    "        elif self.iq < 60:\n",
    "            print(\"Я забыл как дышать\")\n",
    "        \n",
    "        print()"
   ]
  },
  {
   "cell_type": "code",
   "execution_count": 40,
   "id": "ba5af54b-9002-4a20-bb39-997aac6c880e",
   "metadata": {},
   "outputs": [],
   "source": [
    "vovan = human(170, 90, \"Коля\")"
   ]
  },
  {
   "cell_type": "code",
   "execution_count": 41,
   "id": "1f97ae4c-f465-4536-8ccd-e97453114d8c",
   "metadata": {},
   "outputs": [],
   "source": [
    "vovan.weight = 75"
   ]
  },
  {
   "cell_type": "code",
   "execution_count": 42,
   "id": "99199869-4393-4f82-8a97-8199eadd9f68",
   "metadata": {},
   "outputs": [
    {
     "data": {
      "text/plain": [
       "75"
      ]
     },
     "execution_count": 42,
     "metadata": {},
     "output_type": "execute_result"
    }
   ],
   "source": [
    "vovan.weight"
   ]
  },
  {
   "cell_type": "code",
   "execution_count": 43,
   "id": "34df1d05-624e-46b5-aad8-df7e39945c4e",
   "metadata": {},
   "outputs": [
    {
     "ename": "TypeError",
     "evalue": "human.run() takes 1 positional argument but 2 were given",
     "output_type": "error",
     "traceback": [
      "\u001b[1;31m---------------------------------------------------------------------------\u001b[0m",
      "\u001b[1;31mTypeError\u001b[0m                                 Traceback (most recent call last)",
      "Cell \u001b[1;32mIn[43], line 1\u001b[0m\n\u001b[1;32m----> 1\u001b[0m \u001b[43mvovan\u001b[49m\u001b[38;5;241;43m.\u001b[39;49m\u001b[43mrun\u001b[49m\u001b[43m(\u001b[49m\u001b[38;5;241;43m3\u001b[39;49m\u001b[43m)\u001b[49m\n",
      "\u001b[1;31mTypeError\u001b[0m: human.run() takes 1 positional argument but 2 were given"
     ]
    }
   ],
   "source": [
    "vovan.run(3)"
   ]
  },
  {
   "cell_type": "code",
   "execution_count": null,
   "id": "a43cbd44-c4ad-4491-9c89-1553316005c8",
   "metadata": {},
   "outputs": [],
   "source": []
  },
  {
   "cell_type": "code",
   "execution_count": 35,
   "id": "bc9478cc-6efa-493b-bdc2-e1f86502826c",
   "metadata": {},
   "outputs": [],
   "source": [
    "class humanworker(human):\n",
    "    def work():\n",
    "        print(\"\")\n",
    "    "
   ]
  },
  {
   "cell_type": "code",
   "execution_count": 36,
   "id": "1108341a-8937-43e8-a1cd-955062aa8a25",
   "metadata": {},
   "outputs": [],
   "source": [
    "vova_worker = humanworker()"
   ]
  },
  {
   "cell_type": "code",
   "execution_count": null,
   "id": "4d739b5b-cb02-47fd-b163-807dcd9259c8",
   "metadata": {},
   "outputs": [],
   "source": []
  }
 ],
 "metadata": {
  "kernelspec": {
   "display_name": "Python 3 (ipykernel)",
   "language": "python",
   "name": "python3"
  },
  "language_info": {
   "codemirror_mode": {
    "name": "ipython",
    "version": 3
   },
   "file_extension": ".py",
   "mimetype": "text/x-python",
   "name": "python",
   "nbconvert_exporter": "python",
   "pygments_lexer": "ipython3",
   "version": "3.11.5"
  }
 },
 "nbformat": 4,
 "nbformat_minor": 5
}
