{
 "cells": [
  {
   "cell_type": "code",
   "execution_count": 28,
   "id": "561cf785-4273-4691-bd2f-2a799f5953f5",
   "metadata": {},
   "outputs": [],
   "source": [
    "class MosquitoCloud:\n",
    "    def __init__(\n",
    "            self,\n",
    "            damage_per_mosquito: float = 1.7,\n",
    "            mosquitos_in_cloud: int = 5 \n",
    "        ):\n",
    "            if damage_per_mosquito is not None and mosquitos_in_cloud is not None:\n",
    "                self.damage_per_mosquito = damage_per_mosquito\n",
    "                self.mosquitos_in_cloud = mosquitos_in_cloud\n",
    "                self.damage = damage_per_mosquito * mosquitos_in_cloud\n",
    "            else:\n",
    "                 raise ValueError('Please provide correct variables')\n",
    "            \n",
    "    def __add__(self: 'MosquitoCloud', other: 'MosquitoCloud') -> 'MosquitoCloud':\n",
    "         new_mosquitos_cloud = MosquitoCloud(\n",
    "            damage_per_mosquito = (self.damage_per_mosquito + other.damage_per_mosquito) / 2,\n",
    "            mosquitos_in_cloud = self.mosquitos_in_cloud + other.mosquitos_in_cloud\n",
    "        )\n",
    "         return new_mosquitos_cloud\n",
    "\n",
    "    def __eq__(self, __value: object) -> bool:\n",
    "         pass\n",
    "    \n",
    "    def __lt__(self: 'MosquitoCloud', other: 'MosquitoCloud'):\n",
    "         return self.mosquitos_in_cloud < other.mosquitos_in_cloud\n",
    "    \n",
    "    def __gt__(self: 'MosquitoCloud', other: 'MosquitoCloud'):\n",
    "         return self.mosquitos_in_cloud > other.mosquitos_in_cloud"
   ]
  },
  {
   "cell_type": "code",
   "execution_count": 29,
   "id": "cb33b433-b871-4b52-8647-c69c6ed8f703",
   "metadata": {},
   "outputs": [
    {
     "data": {
      "text/plain": [
       "8.5"
      ]
     },
     "execution_count": 29,
     "metadata": {},
     "output_type": "execute_result"
    }
   ],
   "source": [
    "mcloud1 = MosquitoCloud()\n",
    "mcloud1.damage"
   ]
  },
  {
   "cell_type": "code",
   "execution_count": 30,
   "id": "c24836c3-dd25-4f9a-921e-e8aa62e3204e",
   "metadata": {},
   "outputs": [],
   "source": [
    "mcloud2 = MosquitoCloud(\n",
    "    mosquitos_in_cloud=10\n",
    ")"
   ]
  },
  {
   "cell_type": "code",
   "execution_count": 31,
   "id": "7f96a3cc",
   "metadata": {},
   "outputs": [
    {
     "data": {
      "text/plain": [
       "<__main__.MosquitoCloud at 0x2363adebd50>"
      ]
     },
     "execution_count": 31,
     "metadata": {},
     "output_type": "execute_result"
    }
   ],
   "source": [
    "mcloud1 + mcloud2"
   ]
  },
  {
   "cell_type": "code",
   "execution_count": 32,
   "id": "cc7d64f3",
   "metadata": {},
   "outputs": [],
   "source": [
    "mcloud1 == mcloud2"
   ]
  },
  {
   "cell_type": "code",
   "execution_count": 33,
   "id": "17d339b2",
   "metadata": {},
   "outputs": [
    {
     "data": {
      "text/plain": [
       "False"
      ]
     },
     "execution_count": 33,
     "metadata": {},
     "output_type": "execute_result"
    }
   ],
   "source": [
    "mcloud1 > mcloud2"
   ]
  },
  {
   "cell_type": "code",
   "execution_count": null,
   "id": "9aad1101",
   "metadata": {},
   "outputs": [],
   "source": [
    "N"
   ]
  }
 ],
 "metadata": {
  "kernelspec": {
   "display_name": "Python 3 (ipykernel)",
   "language": "python",
   "name": "python3"
  },
  "language_info": {
   "codemirror_mode": {
    "name": "ipython",
    "version": 3
   },
   "file_extension": ".py",
   "mimetype": "text/x-python",
   "name": "python",
   "nbconvert_exporter": "python",
   "pygments_lexer": "ipython3",
   "version": "3.11.5"
  }
 },
 "nbformat": 4,
 "nbformat_minor": 5
}
