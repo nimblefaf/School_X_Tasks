{
 "cells": [
  {
   "cell_type": "code",
   "execution_count": 1,
   "id": "a4665fcd-c1e2-43da-91a6-24c15f80445a",
   "metadata": {},
   "outputs": [
    {
     "name": "stdout",
     "output_type": "stream",
     "text": [
      "['PassengerId', 'Pclass', 'Name', 'Sex', 'Age', 'SibSp', 'Parch', 'Ticket', 'Fare', 'Cabin', 'Embarked\\n']['892', '3', '\"Kelly', ' Mr. James\"', 'male', '34.5', '0', '0', '330911', '7.8292', '', 'Q\\n']['893', '3', '\"Wilkes', ' Mrs. James (Ellen Needs)\"', 'female', '47', '1', '0', '363272', '7', '', 'S\\n']['894', '2', '\"Myles', ' Mr. Thomas Francis\"', 'male', '62', '0', '0', '240276', '9.6875', '', 'Q\\n']['895', '3', '\"Wirz', ' Mr. Albert\"', 'male', '27', '0', '0', '315154', '8.6625', '', 'S\\n']['896', '3', '\"Hirvonen', ' Mrs. Alexander (Helga E Lindqvist)\"', 'female', '22', '1', '1', '3101298', '12.2875', '', 'S\\n']['897', '3', '\"Svensson', ' Mr. Johan Cervin\"', 'male', '14', '0', '0', '7538', '9.225', '', 'S\\n']['898', '3', '\"Connolly', ' Miss. Kate\"', 'female', '30', '0', '0', '330972', '7.6292', '', 'Q\\n']['899', '2', '\"Caldwell', ' Mr. Albert Francis\"', 'male', '26', '1', '1', '248738', '29', '', 'S\\n']['900', '3', '\"Abrahim', ' Mrs. Joseph (Sophie Halaut Easu)\"', 'female', '18', '0', '0', '2657', '7.2292', '', 'C\\n']"
     ]
    }
   ],
   "source": [
    "file = open('test.csv', 'r')\n",
    "file_lines = file.readlines()\n",
    "for i in range(10):\n",
    "    print(file_lines[i].strip('/n').split(','), end='')\n",
    "file.close()"
   ]
  },
  {
   "cell_type": "code",
   "execution_count": 2,
   "id": "b986f76a-ed9e-4fdc-9397-5767b406053d",
   "metadata": {},
   "outputs": [
    {
     "name": "stdout",
     "output_type": "stream",
     "text": [
      "\n",
      "P\n",
      "as\n",
      "sen\n",
      "gerI\n",
      "d,Pcl\n",
      "ass,Na\n",
      "me,Sex,\n",
      "Age,SibS\n",
      "p,Parch,T\n",
      "icket,Fare\n",
      ",Cabin,Emba\n",
      "rked\n",
      "892,3,\"\n",
      "Kelly, Mr. Ja\n",
      "mes\",male,34.5\n",
      ",0,0,330911,7.8\n",
      "292,,Q\n",
      "893,3,\"Wi\n",
      "lkes, Mrs. James \n",
      "(Ellen Needs)\",fem\n",
      "ale,47,1,0,363272,7\n"
     ]
    }
   ],
   "source": [
    "with open('test.csv', 'r') as file:\n",
    "    for i in range(20):\n",
    "        print(file.read(i))"
   ]
  },
  {
   "cell_type": "code",
   "execution_count": 11,
   "id": "40b8207d-2e41-4f0c-ab40-61e298753f8b",
   "metadata": {},
   "outputs": [
    {
     "name": "stdin",
     "output_type": "stream",
     "text": [
      "1:  10\n",
      "2:  100\n"
     ]
    }
   ],
   "source": [
    "a = int(input('1: '))\n",
    "b = int(input('2: '))\n",
    "\n",
    "with open('out.txt', 'w+', encoding='utf-8') as wfile:\n",
    "    wfile.write(f'{a**2} + {b**3} = {a**2 + b**3}' + '\\n')\n",
    "    wfile.write(f'{a} + {b} = {a+b}')"
   ]
  },
  {
   "cell_type": "code",
   "execution_count": 10,
   "id": "03fcde07-2348-4fd6-a46f-0925359d9fd9",
   "metadata": {},
   "outputs": [],
   "source": [
    "with open('b_out.txt', 'wb+') as wbfile:\n",
    "    wbfile.write(b'HELLO BOBBY!!!')"
   ]
  },
  {
   "cell_type": "code",
   "execution_count": 17,
   "id": "4a1a37bd-c929-4bc9-81f3-c3fb25db1732",
   "metadata": {},
   "outputs": [],
   "source": [
    "def squared(num: int) -> list[int]:\n",
    "    new_list = []\n",
    "    for n in range(num):\n",
    "        new_list.append(n**2)\n",
    "    return new_list\n",
    "\n",
    "def gen_squared(num: int) -> list[int]:\n",
    "    for n in range(num):\n",
    "        yield n**2"
   ]
  },
  {
   "cell_type": "code",
   "execution_count": 21,
   "id": "88d82d7b-0792-47a7-85f3-75cec871f10e",
   "metadata": {},
   "outputs": [
    {
     "name": "stdout",
     "output_type": "stream",
     "text": [
      "[0, 1, 4, 9, 16, 25, 36, 49, 64, 81]\n",
      "[0, 1, 4, 9, 16, 25, 36, 49, 64, 81]\n"
     ]
    }
   ],
   "source": [
    "print(squared(10))\n",
    "print(list(gen_squared(10)))"
   ]
  },
  {
   "cell_type": "code",
   "execution_count": 22,
   "id": "417dc418-8b45-4ee0-9153-4b01cda8c200",
   "metadata": {},
   "outputs": [
    {
     "name": "stdout",
     "output_type": "stream",
     "text": [
      "3.26 µs ± 85.4 ns per loop (mean ± std. dev. of 7 runs, 100,000 loops each)\n",
      "2.75 µs ± 11.7 ns per loop (mean ± std. dev. of 7 runs, 100,000 loops each)\n"
     ]
    }
   ],
   "source": [
    "%timeit squared(10)\n",
    "%timeit list(gen_squared(10))"
   ]
  },
  {
   "cell_type": "code",
   "execution_count": 23,
   "id": "b47d7a9a-75d2-43f4-a36a-9e452d87460f",
   "metadata": {},
   "outputs": [
    {
     "data": {
      "text/plain": [
       "<generator object gen_squared at 0x7f3ec447f8b0>"
      ]
     },
     "execution_count": 23,
     "metadata": {},
     "output_type": "execute_result"
    }
   ],
   "source": [
    "gen = gen_squared(10)\n",
    "gen"
   ]
  },
  {
   "cell_type": "code",
   "execution_count": 34,
   "id": "66c94eb3-9949-42f2-8812-0afe2e7ac426",
   "metadata": {},
   "outputs": [
    {
     "ename": "StopIteration",
     "evalue": "",
     "output_type": "error",
     "traceback": [
      "\u001b[0;31m---------------------------------------------------------------------------\u001b[0m",
      "\u001b[0;31mStopIteration\u001b[0m                             Traceback (most recent call last)",
      "Cell \u001b[0;32mIn[34], line 1\u001b[0m\n\u001b[0;32m----> 1\u001b[0m \u001b[38;5;28;43mnext\u001b[39;49m\u001b[43m(\u001b[49m\u001b[43mgen\u001b[49m\u001b[43m)\u001b[49m\n",
      "\u001b[0;31mStopIteration\u001b[0m: "
     ]
    }
   ],
   "source": [
    "next(gen)"
   ]
  },
  {
   "cell_type": "code",
   "execution_count": 35,
   "id": "66822a46-d914-4ded-afc9-4180a655be39",
   "metadata": {},
   "outputs": [
    {
     "data": {
      "text/plain": [
       "[0, 1, 4, 9, 16, 25, 36, 49, 64, 81]"
      ]
     },
     "execution_count": 35,
     "metadata": {},
     "output_type": "execute_result"
    }
   ],
   "source": [
    "list_c = [a**2 for a in range(10)]\n",
    "list_c"
   ]
  },
  {
   "cell_type": "code",
   "execution_count": 37,
   "id": "79b2948f-aa9b-466f-9348-5ee25345996c",
   "metadata": {},
   "outputs": [
    {
     "data": {
      "text/plain": [
       "<generator object <genexpr> at 0x7f3ebc710200>"
      ]
     },
     "execution_count": 37,
     "metadata": {},
     "output_type": "execute_result"
    }
   ],
   "source": [
    "gen_c = (a**2 for a in range(10))\n",
    "gen_c"
   ]
  },
  {
   "cell_type": "code",
   "execution_count": 43,
   "id": "de91b3b3-ed77-4da0-b3e6-5210a5fd15f8",
   "metadata": {},
   "outputs": [],
   "source": [
    "def hate_40(num: float | int) -> list[float|int]:\n",
    "    for i in range(num):\n",
    "        if i*10 != 40:\n",
    "            yield i * 10\n",
    "        else:\n",
    "            return"
   ]
  },
  {
   "cell_type": "code",
   "execution_count": 44,
   "id": "4371c73b-6a15-4a7f-b18d-9d7c8d77c2bc",
   "metadata": {},
   "outputs": [
    {
     "data": {
      "text/plain": [
       "[0, 10, 20, 30]"
      ]
     },
     "execution_count": 44,
     "metadata": {},
     "output_type": "execute_result"
    }
   ],
   "source": [
    "list(hate_40(6))"
   ]
  },
  {
   "cell_type": "code",
   "execution_count": 45,
   "id": "73317d61-3ca9-4940-b284-23bff9e5478c",
   "metadata": {},
   "outputs": [],
   "source": [
    "a = hate_40(100_00)"
   ]
  },
  {
   "cell_type": "code",
   "execution_count": 52,
   "id": "50e8c9cc-a6ec-4609-a8e9-f109000762b7",
   "metadata": {},
   "outputs": [
    {
     "ename": "StopIteration",
     "evalue": "",
     "output_type": "error",
     "traceback": [
      "\u001b[0;31m---------------------------------------------------------------------------\u001b[0m",
      "\u001b[0;31mStopIteration\u001b[0m                             Traceback (most recent call last)",
      "Cell \u001b[0;32mIn[52], line 1\u001b[0m\n\u001b[0;32m----> 1\u001b[0m \u001b[38;5;28;43mnext\u001b[39;49m\u001b[43m(\u001b[49m\u001b[43ma\u001b[49m\u001b[43m)\u001b[49m\n",
      "\u001b[0;31mStopIteration\u001b[0m: "
     ]
    }
   ],
   "source": [
    "next(a)"
   ]
  },
  {
   "cell_type": "code",
   "execution_count": 54,
   "id": "c109ef82-3d2b-42bf-8daf-6fac6c0ef302",
   "metadata": {},
   "outputs": [
    {
     "data": {
      "text/plain": [
       "list"
      ]
     },
     "execution_count": 54,
     "metadata": {},
     "output_type": "execute_result"
    }
   ],
   "source": [
    "type(file_lines)"
   ]
  },
  {
   "cell_type": "code",
   "execution_count": null,
   "id": "a0851399-f2e5-44ff-8aab-32380589c009",
   "metadata": {},
   "outputs": [],
   "source": []
  }
 ],
 "metadata": {
  "kernelspec": {
   "display_name": "Python 3 (ipykernel)",
   "language": "python",
   "name": "python3"
  },
  "language_info": {
   "codemirror_mode": {
    "name": "ipython",
    "version": 3
   },
   "file_extension": ".py",
   "mimetype": "text/x-python",
   "name": "python",
   "nbconvert_exporter": "python",
   "pygments_lexer": "ipython3",
   "version": "3.10.12"
  }
 },
 "nbformat": 4,
 "nbformat_minor": 5
}
