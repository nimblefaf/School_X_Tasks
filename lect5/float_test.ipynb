{
 "cells": [
  {
   "cell_type": "code",
   "execution_count": 10,
   "id": "990437c1-71fc-45ad-8f98-e917293aafcc",
   "metadata": {},
   "outputs": [
    {
     "name": "stdout",
     "output_type": "stream",
     "text": [
      "Note: you may need to restart the kernel to use updated packages.\n"
     ]
    }
   ],
   "source": [
    "%pip install -q numpy"
   ]
  },
  {
   "cell_type": "code",
   "execution_count": 20,
   "id": "96645cdd-f7c1-472a-bcea-077ada718092",
   "metadata": {},
   "outputs": [
    {
     "name": "stdout",
     "output_type": "stream",
     "text": [
      "Note: you may need to restart the kernel to use updated packages.\n"
     ]
    }
   ],
   "source": [
    "%pip install -q rich"
   ]
  },
  {
   "cell_type": "code",
   "execution_count": 21,
   "id": "e588303f-6214-405b-bdbc-76374a26b4e5",
   "metadata": {},
   "outputs": [],
   "source": [
    "import numpy as np\n",
    "from rich import print as rich_print"
   ]
  },
  {
   "cell_type": "code",
   "execution_count": 22,
   "id": "bc33dda8-5e21-43bf-b76b-3b8f83d7f9c6",
   "metadata": {},
   "outputs": [
    {
     "name": "stdout",
     "output_type": "stream",
     "text": [
      "[bold blue] HELLO! [/bold blue]\n"
     ]
    },
    {
     "data": {
      "text/html": [
       "<pre style=\"white-space:pre;overflow-x:auto;line-height:normal;font-family:Menlo,'DejaVu Sans Mono',consolas,'Courier New',monospace\"><span style=\"color: #000080; text-decoration-color: #000080; font-weight: bold\"> HELLO! </span>\n",
       "</pre>\n"
      ],
      "text/plain": [
       "\u001b[1;34m HELLO! \u001b[0m\n"
      ]
     },
     "metadata": {},
     "output_type": "display_data"
    }
   ],
   "source": [
    "text = '[bold blue] HELLO! [/bold blue]'\n",
    "\n",
    "print(text)\n",
    "rich_print(text)"
   ]
  },
  {
   "cell_type": "code",
   "execution_count": null,
   "id": "77d04539-e320-46a7-9b79-1a1839d26fdc",
   "metadata": {},
   "outputs": [],
   "source": []
  }
 ],
 "metadata": {
  "kernelspec": {
   "display_name": "Python 3 (ipykernel)",
   "language": "python",
   "name": "python3"
  },
  "language_info": {
   "codemirror_mode": {
    "name": "ipython",
    "version": 3
   },
   "file_extension": ".py",
   "mimetype": "text/x-python",
   "name": "python",
   "nbconvert_exporter": "python",
   "pygments_lexer": "ipython3",
   "version": "3.11.5"
  }
 },
 "nbformat": 4,
 "nbformat_minor": 5
}
