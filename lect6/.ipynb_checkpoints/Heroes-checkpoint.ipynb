{
 "cells": [
  {
   "cell_type": "code",
   "execution_count": 2,
   "id": "e54aadd3-44c1-4f38-84c0-7eaa3f1eb434",
   "metadata": {},
   "outputs": [],
   "source": [
    "import random as rnd\n",
    "players = []\n",
    "class Character():\n",
    "    name: str = \"Имярек\"\n",
    "    health: int\n",
    "    dead: bool = False\n",
    "    speed: int\n",
    "    melee_damage: int\n",
    "    ranged_damage: int\n",
    "    def __init__(self, name:str, s: int, d: int, con: int, i: int, w: int, ch: int):\n",
    "        self.name = name\n",
    "        self.strenght: int = s\n",
    "        self.dexterity: int = d\n",
    "        self.constitution: int = con\n",
    "        self.intelligence: int = i\n",
    "        self.wisdom: int = w\n",
    "        self.charisma: int = ch\n",
    "        self.health: int = con*100\n",
    "        self.speed: int = d*10\n",
    "        \n",
    "        self.melee_damage: int = (self.strenght  + self.intelligence) * 10\n",
    "        self.ranged_damage: int = (self.dexterity + self.wisdom) * 10\n",
    "        self.id = len(players)\n",
    "        players.append(self)\n",
    "        \n",
    "\n",
    "    def move(self):\n",
    "        print(f\"{self.name} двигается на {self.speed} метр(а/ов)\")\n",
    "\n",
    "    def wati(self):\n",
    "        print()\n",
    "\n",
    "    def trade(self):\n",
    "        print()\n",
    "\n",
    "    def think(self):\n",
    "        print()\n",
    "\n",
    "    def restore_health(self, hp_restored: int):\n",
    "        alived = False\n",
    "        if self.health == 0:\n",
    "            self.dead = False\n",
    "            alived = True\n",
    "        self.health += hp_restored\n",
    "        if self.health > self.constitution * 100: #check if health exceeds maxHP\n",
    "            self.health = self.constitution * 100\n",
    "        print(f\"{self.name} восстановил {hp_restored} здоровья! Всего здоровья: {self.health}\")\n",
    "        if alived == True:\n",
    "            print(f\"{self.name} больше не мёртв!\")\n",
    "\n",
    "    def deal_damage(self, damage_dealt: int):\n",
    "        self.health -= damage_dealt\n",
    "        if self.health <= 0:\n",
    "            self.health = 0\n",
    "            self.dead = True\n",
    "        print(f\"{self.name} получил {damage_dealt} урона! Всего здоровья: {self.health}\")\n",
    "        if self.dead == True:\n",
    "            print(f\"{self.name} умирает!\")\n",
    "        "
   ]
  },
  {
   "cell_type": "code",
   "execution_count": 3,
   "id": "c715452d-bd3e-4797-a44f-276091f155d4",
   "metadata": {},
   "outputs": [],
   "source": [
    "class Hero(Character):\n",
    "    allignment = 'good'\n",
    "    def meleeStrike(self, target_id):\n",
    "        print(f\"Герой {self.name} наносит удар! Цель - {players[target_id].name}\")\n",
    "        players[target_id].deal_damage(self.melee_damage)\n",
    "class Villain(Character):\n",
    "    allignment = 'evil'\n",
    "    def rangedStrike(self, target_id):\n",
    "        print(f\"Злодей {self.name} стреляет! Цель - {players[target_id].name}\")\n",
    "        players[target_id].deal_damage(self.ranged_damage)"
   ]
  },
  {
   "cell_type": "code",
   "execution_count": 4,
   "id": "643ccad0-5316-40a7-bb95-2fa62a90d1ba",
   "metadata": {},
   "outputs": [],
   "source": [
    "class Paladin(Hero):\n",
    "    def holy_strike(self, target_id):\n",
    "        damage_bonus = 5 * self.charisma\n",
    "        print(f'Паладин {self.name} использует Святой Удар!')\n",
    "        if players[target_id].allignment == 'evil':\n",
    "            print(f'Цель получает доп. урон за мировоззрение!')\n",
    "            players[target_id].deal_damage(self.melee_damage + damage_bonus)\n",
    "        else:\n",
    "            print(f'Цель не получает доп. урон за мировоззрение!')\n",
    "            players[target_id].deal_damage(self.melee_damage)\n",
    "        \n",
    "    def heal(self, target_id):\n",
    "        print(f'Паладин {self.name} использует Лечение!')\n",
    "        HP_healed = rnd.randrange(1,5) * self.charisma\n",
    "        players[target_id].restore_health(HP_healed)"
   ]
  },
  {
   "cell_type": "code",
   "execution_count": 5,
   "id": "0e054f3f-969f-43e4-adea-b8d2441b6a2e",
   "metadata": {},
   "outputs": [],
   "source": [
    "class Blood_mage(Villain):\n",
    "    blood_ritual_bonus: int\n",
    "    blood_strike_charges: int = 0\n",
    "    def blood_ritual(self):\n",
    "        damage_taken = 5 * rnd.randrange(1,10)\n",
    "        self.blood_ritual_bonus = 5 * self.wisdom\n",
    "        self.blood_strike_charges = 3\n",
    "        print(f\"Маг крови {self.name} провёл ритуал крови! Получены три заряда кровавой атаки!\")\n",
    "        self.deal_damage(damage_taken)\n",
    "    def blood_strike(self, target_id):\n",
    "        if self.blood_strike_charges > 0:\n",
    "            self.blood_strike_charges -= 1\n",
    "            print(f\"Маг крови {self.name} нанёс кровавый удар по игроку {players[target_id].name}!\")\n",
    "            players[target_id].deal_damage(self.ranged_damage + (5 * self.wisdom))\n",
    "        else:\n",
    "            print(f\"Маг крови {self.name} не смог нанести кровавый удар.\")"
   ]
  },
  {
   "cell_type": "code",
   "execution_count": 6,
   "id": "c83860fb-746a-4928-aa75-a7891e658ffb",
   "metadata": {},
   "outputs": [],
   "source": [
    "steven = Paladin(\"Стивен\", 7, 7, 7, 7, 7, 10)\n",
    "kruger = Blood_mage(\"Крюгер\", 7, 7, 7, 7, 10, 7)"
   ]
  },
  {
   "cell_type": "code",
   "execution_count": 7,
   "id": "571560a1-2d48-4d26-9f80-f9f46c6c3350",
   "metadata": {},
   "outputs": [
    {
     "name": "stdout",
     "output_type": "stream",
     "text": [
      "Крюгер восстановил 1000 здоровья! Всего здоровья: 700\n",
      "Стивен восстановил 1000 здоровья! Всего здоровья: 700\n",
      "Маг крови Крюгер провёл ритуал крови! Получены три заряда кровавой атаки!\n",
      "Крюгер получил 40 урона! Всего здоровья: 660\n",
      "Маг крови Крюгер нанёс кровавый удар по игроку Стивен!\n",
      "Стивен получил 220 урона! Всего здоровья: 480\n",
      "Маг крови Крюгер нанёс кровавый удар по игроку Стивен!\n",
      "Стивен получил 220 урона! Всего здоровья: 260\n",
      "Маг крови Крюгер нанёс кровавый удар по игроку Стивен!\n",
      "Стивен получил 220 урона! Всего здоровья: 40\n",
      "Маг крови Крюгер не смог нанести кровавый удар.\n"
     ]
    }
   ],
   "source": [
    "kruger.restore_health(1000)\n",
    "steven.restore_health(1000)\n",
    "kruger.blood_ritual()\n",
    "for i in range(4):\n",
    "    kruger.blood_strike(0)"
   ]
  },
  {
   "cell_type": "code",
   "execution_count": 8,
   "id": "7b72f76a-d244-41be-9f0c-fe9e8265bef7",
   "metadata": {},
   "outputs": [
    {
     "name": "stdout",
     "output_type": "stream",
     "text": [
      "Паладин Стивен использует Лечение!\n",
      "Стивен восстановил 40 здоровья! Всего здоровья: 80\n"
     ]
    }
   ],
   "source": [
    "steven.heal(0)"
   ]
  },
  {
   "cell_type": "code",
   "execution_count": 9,
   "id": "fef3d729-42d7-4ccd-9869-19de7a3d6b7b",
   "metadata": {},
   "outputs": [
    {
     "name": "stdout",
     "output_type": "stream",
     "text": [
      "Паладин Стивен использует Святой Удар!\n",
      "Цель получает доп. урон за мировоззрение!\n",
      "Крюгер получил 190 урона! Всего здоровья: 470\n",
      "Паладин Стивен использует Святой Удар!\n",
      "Цель получает доп. урон за мировоззрение!\n",
      "Крюгер получил 190 урона! Всего здоровья: 280\n",
      "Паладин Стивен использует Святой Удар!\n",
      "Цель получает доп. урон за мировоззрение!\n",
      "Крюгер получил 190 урона! Всего здоровья: 90\n",
      "Паладин Стивен использует Святой Удар!\n",
      "Цель получает доп. урон за мировоззрение!\n",
      "Крюгер получил 190 урона! Всего здоровья: 0\n",
      "Крюгер умирает!\n"
     ]
    }
   ],
   "source": [
    "while kruger.dead == False:\n",
    "    steven.holy_strike(1)"
   ]
  }
 ],
 "metadata": {
  "kernelspec": {
   "display_name": "Python 3 (ipykernel)",
   "language": "python",
   "name": "python3"
  },
  "language_info": {
   "codemirror_mode": {
    "name": "ipython",
    "version": 3
   },
   "file_extension": ".py",
   "mimetype": "text/x-python",
   "name": "python",
   "nbconvert_exporter": "python",
   "pygments_lexer": "ipython3",
   "version": "3.11.5"
  }
 },
 "nbformat": 4,
 "nbformat_minor": 5
}
