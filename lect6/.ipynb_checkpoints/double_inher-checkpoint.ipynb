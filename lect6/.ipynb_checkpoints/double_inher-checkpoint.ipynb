{
 "cells": [
  {
   "cell_type": "code",
   "execution_count": 2,
   "id": "926078b7-66ef-4317-ade8-7e14c15d9186",
   "metadata": {},
   "outputs": [],
   "source": [
    "class Bird:\n",
    "    def __init__(\n",
    "        self,\n",
    "        wings_length: float = 12.5,\n",
    "        legs_lenght: float = 3.5,\n",
    "        color: str = 'red'\n",
    "    ):\n",
    "        self.wings_length = wings_length\n",
    "        self.legs_lenght = legs_lenght\n",
    "        self.color = color\n",
    "        print('Bird initialized')\n",
    "\n",
    "    def fly(self):\n",
    "        print('I fly')\n",
    "\n",
    "    def swim(self):\n",
    "        print('I swim')\n",
    "\n",
    "    def walk(self):\n",
    "        print('I walk')\n",
    "\n",
    "    def make_noise(self):\n",
    "        print('Tweet')\n",
    "\n",
    "class RunnerToy:\n",
    "    toxic: bool = False\n",
    "    size_cm3: float = 12\n",
    "    color: str = 'red'\n",
    "\n",
    "    def bounce(self):\n",
    "        print('pluns')\n",
    "\n",
    "    def deform(self):\n",
    "        print('morphing time')\n",
    "\n",
    "    def make_noise(self):\n",
    "        print('peep')"
   ]
  },
  {
   "cell_type": "code",
   "execution_count": 3,
   "id": "3fbcc82d-01c0-4883-8dbc-379bea187078",
   "metadata": {},
   "outputs": [
    {
     "ename": "NameError",
     "evalue": "name 'RubberToy' is not defined",
     "output_type": "error",
     "traceback": [
      "\u001b[1;31m---------------------------------------------------------------------------\u001b[0m",
      "\u001b[1;31mNameError\u001b[0m                                 Traceback (most recent call last)",
      "Cell \u001b[1;32mIn[3], line 1\u001b[0m\n\u001b[1;32m----> 1\u001b[0m \u001b[38;5;28;01mclass\u001b[39;00m \u001b[38;5;21;01mRubberBird\u001b[39;00m(\u001b[43mRubberToy\u001b[49m, Bird):\n\u001b[0;32m      2\u001b[0m     \u001b[38;5;28;01mpass\u001b[39;00m\n",
      "\u001b[1;31mNameError\u001b[0m: name 'RubberToy' is not defined"
     ]
    }
   ],
   "source": [
    "class RubberBird(RubberToy, Bird):\n",
    "    pass"
   ]
  },
  {
   "cell_type": "code",
   "execution_count": null,
   "id": "f88bf905-7f24-4a1a-8c3e-1a5020284e31",
   "metadata": {},
   "outputs": [],
   "source": []
  }
 ],
 "metadata": {
  "kernelspec": {
   "display_name": "Python 3 (ipykernel)",
   "language": "python",
   "name": "python3"
  },
  "language_info": {
   "codemirror_mode": {
    "name": "ipython",
    "version": 3
   },
   "file_extension": ".py",
   "mimetype": "text/x-python",
   "name": "python",
   "nbconvert_exporter": "python",
   "pygments_lexer": "ipython3",
   "version": "3.11.5"
  }
 },
 "nbformat": 4,
 "nbformat_minor": 5
}
