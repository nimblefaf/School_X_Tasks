{
 "cells": [
  {
   "cell_type": "code",
   "execution_count": 31,
   "id": "846618a6-aac2-443c-9b7a-6320e19b6462",
   "metadata": {},
   "outputs": [],
   "source": [
    "tree = {\n",
    "    1:  {\n",
    "        'first_inner': {\n",
    "            1: 'text',\n",
    "            2: 'text',\n",
    "            3: 'text',\n",
    "        },\n",
    "    },\n",
    "    2: {\n",
    "        'second_inner': {\n",
    "            'second_2_inner': {\n",
    "                'second_3_inner': {\n",
    "                    1: 'folder',\n",
    "                    2: 'folder',\n",
    "                    3: 'target_folder',\n",
    "                },\n",
    "                2: [1, 2, 3],\n",
    "            }\n",
    "        }\n",
    "    }\n",
    "}\n",
    "        "
   ]
  },
  {
   "cell_type": "code",
   "execution_count": 32,
   "id": "95e9942c-3e9e-492a-8859-c6cc8721a36f",
   "metadata": {},
   "outputs": [
    {
     "data": {
      "text/plain": [
       "{1: {'first_inner': {1: 'text', 2: 'text', 3: 'text'}},\n",
       " 2: {'second_inner': {'second_inner2': {'second_inner3': {1: 'folder',\n",
       "     2: 'folder',\n",
       "     3: 'target_folder'},\n",
       "    2: [1, 2, 3]}}}}"
      ]
     },
     "execution_count": 32,
     "metadata": {},
     "output_type": "execute_result"
    }
   ],
   "source": [
    "tree"
   ]
  },
  {
   "cell_type": "code",
   "execution_count": 33,
   "id": "c7424db1-57b3-4867-80b5-2f8869415d16",
   "metadata": {},
   "outputs": [
    {
     "data": {
      "text/plain": [
       "dict"
      ]
     },
     "execution_count": 33,
     "metadata": {},
     "output_type": "execute_result"
    }
   ],
   "source": [
    "type(tree)"
   ]
  },
  {
   "cell_type": "code",
   "execution_count": 46,
   "id": "fd814982-8b6c-4026-8caf-c922bc9d0bed",
   "metadata": {},
   "outputs": [],
   "source": [
    "def rec_find(tree: dict, name: str):\n",
    "    for key, value in tree.items():\n",
    "        if isinstance(value, dict):\n",
    "            rec_find(value, name)\n",
    "        else:\n",
    "            if value == name:\n",
    "                print('FOUND IT')\n",
    "                break\n",
    "            print(f'ключ - {key}, значение - {value}')"
   ]
  },
  {
   "cell_type": "code",
   "execution_count": 47,
   "id": "ce46e607-2c17-4b16-8dc5-96a55b66df3b",
   "metadata": {},
   "outputs": [
    {
     "name": "stdout",
     "output_type": "stream",
     "text": [
      "ключ - 1, значение - text\n",
      "ключ - 2, значение - text\n",
      "ключ - 3, значение - text\n",
      "ключ - 1, значение - folder\n",
      "ключ - 2, значение - folder\n",
      "FOUND IT\n",
      "ключ - 2, значение - [1, 2, 3]\n"
     ]
    }
   ],
   "source": [
    "rec_find(tree, 'target_folder')"
   ]
  },
  {
   "cell_type": "code",
   "execution_count": 45,
   "id": "47c15e58-a472-4aaa-86d2-74323d3e3955",
   "metadata": {},
   "outputs": [
    {
     "data": {
      "text/plain": [
       "False"
      ]
     },
     "execution_count": 45,
     "metadata": {},
     "output_type": "execute_result"
    }
   ],
   "source": [
    "a = \"\"\n",
    "isinstance(a, int)"
   ]
  },
  {
   "cell_type": "code",
   "execution_count": null,
   "id": "2ac9ba7b-0262-490d-9a7c-63620b1c5b8a",
   "metadata": {},
   "outputs": [],
   "source": []
  },
  {
   "cell_type": "code",
   "execution_count": null,
   "id": "007215aa-f8f9-4416-b436-c66b531e3cb7",
   "metadata": {},
   "outputs": [],
   "source": []
  },
  {
   "cell_type": "code",
   "execution_count": null,
   "id": "2598bd71-482b-4a59-89b8-189697234c9b",
   "metadata": {},
   "outputs": [],
   "source": []
  },
  {
   "cell_type": "code",
   "execution_count": null,
   "id": "f365a452-a863-46b1-bc5d-f82d95d65de1",
   "metadata": {},
   "outputs": [],
   "source": []
  },
  {
   "cell_type": "code",
   "execution_count": null,
   "id": "cee9d17a-a7fa-4a98-b4f0-4419970135f5",
   "metadata": {},
   "outputs": [],
   "source": []
  }
 ],
 "metadata": {
  "kernelspec": {
   "display_name": "Python 3 (ipykernel)",
   "language": "python",
   "name": "python3"
  },
  "language_info": {
   "codemirror_mode": {
    "name": "ipython",
    "version": 3
   },
   "file_extension": ".py",
   "mimetype": "text/x-python",
   "name": "python",
   "nbconvert_exporter": "python",
   "pygments_lexer": "ipython3",
   "version": "3.11.5"
  }
 },
 "nbformat": 4,
 "nbformat_minor": 5
}
