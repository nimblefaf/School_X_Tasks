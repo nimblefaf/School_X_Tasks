{
 "cells": [
  {
   "cell_type": "code",
   "execution_count": null,
   "id": "561cf785-4273-4691-bd2f-2a799f5953f5",
   "metadata": {},
   "outputs": [],
   "source": [
    "class MixingMoveable():\n",
    "    def move():\n",
    "        print('I move')\n",
    "\n",
    "class MixingKillable():\n",
    "    def die():\n",
    "        print('I am ded')\n",
    "\n",
    "class MixingHealer():\n",
    "    def heal():\n",
    "        print('I am healing')\n",
    "\n",
    "class Mixing\n",
    "\n",
    "class MixingStandable():\n",
    "    def walk():\n",
    "        print('I stand')\n"
   ]
  },
  {
   "cell_type": "code",
   "execution_count": null,
   "id": "0b8c2518-86cb-4c8b-83a1-479bdca60d9f",
   "metadata": {},
   "outputs": [],
   "source": [
    "# Character -> Mercy/Birdman/Pudge/BlueTractor\n",
    "# Playable/FunkoPop\n",
    "\n",
    "class Character():\n",
    "    def __init__(\n",
    "        self,\n",
    "        name: str = 'CharName'\n",
    "    ):\n",
    "\n",
    "\n",
    "class Playable(Character):\n",
    "    def __init__(\n",
    "        self,\n",
    "        \n",
    "    ):\n",
    "\n",
    "    def Attack():\n",
    "        \n",
    "\n",
    "class Funko(Character):\n",
    "    def __init__(\n",
    "        \n",
    "    ):\n",
    "    "
   ]
  },
  {
   "cell_type": "code",
   "execution_count": null,
   "id": "cb33b433-b871-4b52-8647-c69c6ed8f703",
   "metadata": {},
   "outputs": [],
   "source": []
  },
  {
   "cell_type": "code",
   "execution_count": null,
   "id": "c24836c3-dd25-4f9a-921e-e8aa62e3204e",
   "metadata": {},
   "outputs": [],
   "source": []
  }
 ],
 "metadata": {
  "kernelspec": {
   "display_name": "Python 3 (ipykernel)",
   "language": "python",
   "name": "python3"
  },
  "language_info": {
   "codemirror_mode": {
    "name": "ipython",
    "version": 3
   },
   "file_extension": ".py",
   "mimetype": "text/x-python",
   "name": "python",
   "nbconvert_exporter": "python",
   "pygments_lexer": "ipython3",
   "version": "3.11.5"
  }
 },
 "nbformat": 4,
 "nbformat_minor": 5
}
