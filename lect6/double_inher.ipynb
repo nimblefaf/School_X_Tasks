{
 "cells": [
  {
   "cell_type": "code",
   "execution_count": 17,
   "id": "1d585fee-3d80-44ca-b698-a7ea1ed94614",
   "metadata": {},
   "outputs": [],
   "source": [
    "class MixingFlyable:\n",
    "    def fly(self):\n",
    "        print('I fly')\n",
    "class MixingWalkable:\n",
    "    def walk(self):\n",
    "        print('I walk')\n",
    "class MixingSwimable:\n",
    "    def swim(self):\n",
    "        print('I swim')\n",
    "class MixingTalkable:\n",
    "    def talk(self):\n",
    "        print('Tweet')"
   ]
  },
  {
   "cell_type": "code",
   "execution_count": 18,
   "id": "926078b7-66ef-4317-ade8-7e14c15d9186",
   "metadata": {},
   "outputs": [],
   "source": [
    "class BaseBird:\n",
    "    def __init__(\n",
    "        self,\n",
    "        wings_length: float = 12.5,\n",
    "        legs_lenght: float = 3.5,\n",
    "        color: str = 'red'\n",
    "    ):\n",
    "        self.wings_length = wings_length\n",
    "        self.legs_lenght = legs_lenght\n",
    "        self.color = color\n",
    "        print('Bird initialized')\n",
    "\n",
    "    def fly(self):\n",
    "        print('I fly')\n",
    "\n",
    "    def swim(self):\n",
    "        print('I swim')\n",
    "\n",
    "    def walk(self):\n",
    "        print('I walk')\n",
    "\n",
    "    def make_noise(self):\n",
    "        print('Tweet')\n",
    "\n",
    "class Bird(\n",
    "    BaseBird,\n",
    "    MixingFlyable,\n",
    "    MixingWalkable,\n",
    "    MixingSwimable,\n",
    "    MixingTalkable\n",
    "):\n",
    "    pass\n",
    "\n",
    "class RubberToy:\n",
    "    def __init__(\n",
    "        self,\n",
    "        toxic: bool = False,\n",
    "        size_cm3: float = 12,\n",
    "        color: str = 'red'\n",
    "    ):\n",
    "        toxic: bool = False\n",
    "        size_cm3: float = 12\n",
    "        color: str = 'red'\n",
    "\n",
    "    def bounce(self):\n",
    "        print('pluns')\n",
    "\n",
    "    def deform(self):\n",
    "        print('morphing time')\n",
    "\n",
    "    def make_noise(self):\n",
    "        print('peep')"
   ]
  },
  {
   "cell_type": "code",
   "execution_count": 19,
   "id": "3fbcc82d-01c0-4883-8dbc-379bea187078",
   "metadata": {},
   "outputs": [],
   "source": [
    "class RubberBird(RubberToy, Bird):\n",
    "    pass"
   ]
  },
  {
   "cell_type": "code",
   "execution_count": 20,
   "id": "f88bf905-7f24-4a1a-8c3e-1a5020284e31",
   "metadata": {},
   "outputs": [
    {
     "name": "stdout",
     "output_type": "stream",
     "text": [
      "Bird initialized\n",
      "Tweet\n"
     ]
    }
   ],
   "source": [
    "bird1 = Bird()\n",
    "bird1.make_noise()"
   ]
  },
  {
   "cell_type": "code",
   "execution_count": null,
   "id": "85329d36-ed79-4666-b116-4ea1d96215c8",
   "metadata": {},
   "outputs": [],
   "source": []
  }
 ],
 "metadata": {
  "kernelspec": {
   "display_name": "Python 3 (ipykernel)",
   "language": "python",
   "name": "python3"
  },
  "language_info": {
   "codemirror_mode": {
    "name": "ipython",
    "version": 3
   },
   "file_extension": ".py",
   "mimetype": "text/x-python",
   "name": "python",
   "nbconvert_exporter": "python",
   "pygments_lexer": "ipython3",
   "version": "3.11.5"
  }
 },
 "nbformat": 4,
 "nbformat_minor": 5
}
