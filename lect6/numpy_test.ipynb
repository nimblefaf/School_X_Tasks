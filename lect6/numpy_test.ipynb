{
 "cells": [
  {
   "cell_type": "code",
   "execution_count": 2,
   "id": "419ab1c5-4b07-4592-9641-1e91afee7346",
   "metadata": {},
   "outputs": [
    {
     "name": "stdout",
     "output_type": "stream",
     "text": [
      "Note: you may need to restart the kernel to use updated packages.\n"
     ]
    }
   ],
   "source": [
    "%pip install -q numpy"
   ]
  },
  {
   "cell_type": "code",
   "execution_count": 3,
   "id": "3cb4a68c-bcc7-48d1-a8ce-3ed3fc0d8ffa",
   "metadata": {},
   "outputs": [],
   "source": [
    "import numpy as np"
   ]
  },
  {
   "cell_type": "code",
   "execution_count": 4,
   "id": "9ced7fd7-fe6b-40d5-8bc0-ceade39a70f1",
   "metadata": {},
   "outputs": [],
   "source": [
    "a = np.array([1, 2, 3, 4, 5, 6])\n",
    "b = np.array([0, 1, 1, 0, 0, 1])\n",
    "# ans = [0, 2, 3, 0, 0, 6]"
   ]
  },
  {
   "cell_type": "code",
   "execution_count": 5,
   "id": "baf7a2ef-3c9d-49c4-9978-828f2a96c1e4",
   "metadata": {},
   "outputs": [
    {
     "data": {
      "text/plain": [
       "(array([1, 2, 3, 4, 5, 6]), array([0, 1, 1, 0, 0, 1]))"
      ]
     },
     "execution_count": 5,
     "metadata": {},
     "output_type": "execute_result"
    }
   ],
   "source": [
    "a, b"
   ]
  },
  {
   "cell_type": "code",
   "execution_count": 6,
   "id": "031f2127-4e22-4b12-9daa-bf0aeba55905",
   "metadata": {},
   "outputs": [
    {
     "data": {
      "text/plain": [
       "array([0, 2, 3, 0, 0, 6])"
      ]
     },
     "execution_count": 6,
     "metadata": {},
     "output_type": "execute_result"
    }
   ],
   "source": [
    "a * b"
   ]
  },
  {
   "cell_type": "code",
   "execution_count": 17,
   "id": "624a73c6-8997-4f3a-91ea-2676a36c422d",
   "metadata": {},
   "outputs": [],
   "source": [
    "c = np.array(\n",
    "   [[1, 2, 3],\n",
    "    [4, 5, 6],\n",
    "    [7, 8, 9]])\n"
   ]
  },
  {
   "cell_type": "code",
   "execution_count": 18,
   "id": "bcadf3d0-1b20-49ed-85ae-82ca84aae8ca",
   "metadata": {},
   "outputs": [
    {
     "data": {
      "text/plain": [
       "array([[1, 4, 7],\n",
       "       [2, 5, 8],\n",
       "       [3, 6, 9]])"
      ]
     },
     "execution_count": 18,
     "metadata": {},
     "output_type": "execute_result"
    }
   ],
   "source": [
    "np.transpose(c)"
   ]
  },
  {
   "cell_type": "code",
   "execution_count": null,
   "id": "0d09d598-edc8-4f38-b09d-3418031932ce",
   "metadata": {},
   "outputs": [],
   "source": []
  }
 ],
 "metadata": {
  "kernelspec": {
   "display_name": "Python 3 (ipykernel)",
   "language": "python",
   "name": "python3"
  },
  "language_info": {
   "codemirror_mode": {
    "name": "ipython",
    "version": 3
   },
   "file_extension": ".py",
   "mimetype": "text/x-python",
   "name": "python",
   "nbconvert_exporter": "python",
   "pygments_lexer": "ipython3",
   "version": "3.11.5"
  }
 },
 "nbformat": 4,
 "nbformat_minor": 5
}
