{
 "cells": [
  {
   "cell_type": "code",
   "execution_count": 1,
   "metadata": {},
   "outputs": [
    {
     "name": "stdout",
     "output_type": "stream",
     "text": [
      "Note: you may need to restart the kernel to use updated packages.\n"
     ]
    },
    {
     "name": "stderr",
     "output_type": "stream",
     "text": [
      "  WARNING: The script f2py.exe is installed in 'c:\\Users\\user\\AppData\\Local\\Programs\\Python\\Python311\\Scripts' which is not on PATH.\n",
      "  Consider adding this directory to PATH or, if you prefer to suppress this warning, use --no-warn-script-location.\n"
     ]
    }
   ],
   "source": [
    "%pip install -Uq numpy"
   ]
  },
  {
   "cell_type": "code",
   "execution_count": 59,
   "metadata": {},
   "outputs": [],
   "source": [
    "import numpy as np"
   ]
  },
  {
   "cell_type": "code",
   "execution_count": 73,
   "metadata": {},
   "outputs": [],
   "source": [
    "class Matrix:\n",
    "    def __init__(self, matr: list):\n",
    "        first_row_size = len(matr[0]) \n",
    "        for row in range(1, len(matr)):\n",
    "            if len(matr[row]) != first_row_size:\n",
    "                raise ValueError(\"Wrong matrix dimensions!\")     # nuke this shit if matrix dimensions are fucked\n",
    "        self.matrix = matr\n",
    "        self.rows = len(self.matrix)\n",
    "        self.columns = len(self.matrix[0])\n",
    "\n",
    "    \n",
    "    def __get__(self):\n",
    "        return self.matrix\n",
    "    \n",
    "    def generate_matrix(rows: int, columns: int) -> 'Matrix':\n",
    "        return Matrix([[0] * columns for i in range(rows)])\n",
    "\n",
    "    def T(self):\n",
    "        result = Matrix.generate_matrix(self.columns, self.rows)\n",
    "        for row in range(result.rows):\n",
    "            for column in range(result.columns):\n",
    "                result.matrix[row][column] = self.matrix[column][row]\n",
    "        return result\n",
    "\n",
    "    def __add__(self: 'Matrix', other: 'Matrix|int|float'):\n",
    "        result = Matrix.generate_matrix(self.rows, self.columns)\n",
    "        if isinstance(other, Matrix):\n",
    "            for row in range(self.rows):\n",
    "                for column in range(self.columns):\n",
    "                    result.matrix[row][column] = self.matrix[row][column] + other.matrix[row][column]\n",
    "        else:\n",
    "            for row in range(self.rows):\n",
    "                for column in range(self.columns):\n",
    "                    result.matrix[row][column] = self.matrix[row][column] + other\n",
    "        return result\n",
    "    \n",
    "    def __sub__(self: 'Matrix', other: 'Matrix|int|float'):\n",
    "        result = Matrix.generate_matrix(self.rows, self.columns)\n",
    "        if isinstance(other, Matrix):\n",
    "            for row in range(self.rows):\n",
    "                for column in range(self.columns):\n",
    "                    result.matrix[row][column] = self.matrix[row][column] - other.matrix[row][column]\n",
    "        else:\n",
    "            for row in range(self.rows):\n",
    "                for column in range(self.columns):\n",
    "                    result.matrix[row][column] = self.matrix[row][column] - other\n",
    "        return result\n",
    "    \n",
    "    def __truediv__(self: 'Matrix', other: 'int|float'):\n",
    "        result = Matrix.generate_matrix(self.rows, self.columns)\n",
    "        if isinstance(other, Matrix):\n",
    "            for row in range(self.rows):\n",
    "                for column in range(self.columns):\n",
    "                    result.matrix[row][column] = self.matrix[row][column] / other.matrix[row][column]\n",
    "            return result\n",
    "        else:\n",
    "            for row in range(self.rows):\n",
    "                for column in range(self.columns):\n",
    "                    result.matrix[row][column] = self.matrix[row][column] / other\n",
    "            return result\n",
    "    \n",
    "    def __mul__(self: 'Matrix', other: 'Matrix|int|float'):\n",
    "        result = Matrix.generate_matrix(self.rows, self.columns)\n",
    "        if isinstance(other, Matrix):\n",
    "            for row in range(self.rows):\n",
    "                for column in range(self.columns):\n",
    "                    result.matrix[row][column] = self.matrix[row][column] * other.matrix[row][column]\n",
    "            return result\n",
    "        else:\n",
    "            for row in range(self.rows):\n",
    "                for column in range(self.columns):\n",
    "                    result.matrix[row][column] = self.matrix[row][column] * other\n",
    "            return result\n",
    "        \n",
    "    def __matmul__(self: 'Matrix', other: 'Matrix'):\n",
    "        result = Matrix.generate_matrix(self.rows, other.columns)\n",
    "        for row in range(result.rows):\n",
    "            for column in range(result.columns):\n",
    "                temp: int|float = 0\n",
    "                for i in range(self.columns):\n",
    "                    temp += self.matrix[row][i] * other.matrix[i][column]\n",
    "                result.matrix[row][column] = temp\n",
    "        return result\n",
    "    \n",
    "    def __eq__(self, other: list) -> bool:\n",
    "        return self.matrix == other\n",
    "\n",
    "\n",
    "    def __repr__(self) -> str:\n",
    "        return str(self.matrix)\n",
    "    \n",
    "    \n",
    "    # not working like i hoped for\n",
    "    def printable(self) -> str:\n",
    "        result = \"\"\n",
    "        for row in range(self.rows):\n",
    "                result += str(self.matrix[row])\n",
    "                result += '\\n'\n",
    "        return result\n"
   ]
  },
  {
   "cell_type": "code",
   "execution_count": 74,
   "metadata": {},
   "outputs": [],
   "source": [
    "np_matrix1 = np.array([\n",
    "    [1, 1, 1],\n",
    "    [1, 2, 3],\n",
    "    [11, 12, 13],\n",
    "    [11, 22, 33]\n",
    "])\n",
    "np_matrix2 = np.array([\n",
    "    [4, 5, 6],\n",
    "    [7, 8, 9],\n",
    "    [77, 12, 12],\n",
    "    [2, 1, 45]\n",
    "])\n",
    "\n",
    "my_matrix1 = Matrix([\n",
    "    [1, 1, 1],\n",
    "    [1, 2, 3],\n",
    "    [11, 12, 13],\n",
    "    [11, 22, 33]\n",
    "])\n",
    "my_matrix2 = Matrix([\n",
    "    [4, 5, 6],\n",
    "    [7, 8, 9],\n",
    "    [77, 12, 12],\n",
    "    [2, 1, 45]\n",
    "])"
   ]
  },
  {
   "cell_type": "code",
   "execution_count": 75,
   "metadata": {},
   "outputs": [
    {
     "data": {
      "text/plain": [
       "[[1, 1, 1], [1, 2, 3], [11, 12, 13], [11, 22, 33]]"
      ]
     },
     "execution_count": 75,
     "metadata": {},
     "output_type": "execute_result"
    }
   ],
   "source": [
    "my_matrix1"
   ]
  },
  {
   "cell_type": "code",
   "execution_count": 76,
   "metadata": {},
   "outputs": [
    {
     "name": "stdout",
     "output_type": "stream",
     "text": [
      "[[ 5  6  7]\n",
      " [ 8 10 12]\n",
      " [88 24 25]\n",
      " [13 23 78]]\n",
      "\n",
      "[5, 6, 7]\n",
      "[8, 10, 12]\n",
      "[88, 24, 25]\n",
      "[13, 23, 78]\n",
      "\n"
     ]
    }
   ],
   "source": [
    "print(np_matrix1 + np_matrix2)\n",
    "print()\n",
    "print((my_matrix1 + my_matrix2).printable())"
   ]
  },
  {
   "cell_type": "code",
   "execution_count": 77,
   "metadata": {},
   "outputs": [
    {
     "name": "stdout",
     "output_type": "stream",
     "text": [
      "[[ -3  -4  -5]\n",
      " [ -6  -6  -6]\n",
      " [-66   0   1]\n",
      " [  9  21 -12]]\n",
      "\n",
      "[-3, -4, -5]\n",
      "[-6, -6, -6]\n",
      "[-66, 0, 1]\n",
      "[9, 21, -12]\n",
      "\n"
     ]
    }
   ],
   "source": [
    "print(np_matrix1 - np_matrix2)\n",
    "print()\n",
    "print((my_matrix1 - my_matrix2).printable())"
   ]
  },
  {
   "cell_type": "code",
   "execution_count": 78,
   "metadata": {},
   "outputs": [
    {
     "name": "stdout",
     "output_type": "stream",
     "text": [
      "[[ 0.5  0.5  0.5]\n",
      " [ 0.5  1.   1.5]\n",
      " [ 5.5  6.   6.5]\n",
      " [ 5.5 11.  16.5]]\n",
      "\n",
      "[0.5, 0.5, 0.5]\n",
      "[0.5, 1.0, 1.5]\n",
      "[5.5, 6.0, 6.5]\n",
      "[5.5, 11.0, 16.5]\n",
      "\n"
     ]
    }
   ],
   "source": [
    "print(np_matrix1 / 2)\n",
    "print()\n",
    "print((my_matrix1 / 2).printable())"
   ]
  },
  {
   "cell_type": "code",
   "execution_count": 79,
   "metadata": {},
   "outputs": [
    {
     "name": "stdout",
     "output_type": "stream",
     "text": [
      "[[ 3  3  3]\n",
      " [ 3  6  9]\n",
      " [33 36 39]\n",
      " [33 66 99]]\n",
      "\n",
      "[3, 3, 3]\n",
      "[3, 6, 9]\n",
      "[33, 36, 39]\n",
      "[33, 66, 99]\n",
      "\n"
     ]
    }
   ],
   "source": [
    "print(np_matrix1 * 3)\n",
    "print()\n",
    "print((my_matrix1 * 3).printable())"
   ]
  },
  {
   "cell_type": "code",
   "execution_count": 80,
   "metadata": {},
   "outputs": [
    {
     "name": "stdout",
     "output_type": "stream",
     "text": [
      "[[   4    5    6]\n",
      " [   7   16   27]\n",
      " [ 847  144  156]\n",
      " [  22   22 1485]]\n",
      "\n",
      "[4, 5, 6]\n",
      "[7, 16, 27]\n",
      "[847, 144, 156]\n",
      "[22, 22, 1485]\n",
      "\n"
     ]
    }
   ],
   "source": [
    "print(np_matrix1 * np_matrix2)\n",
    "print()\n",
    "print((my_matrix1 * my_matrix2).printable())"
   ]
  },
  {
   "cell_type": "code",
   "execution_count": 81,
   "metadata": {},
   "outputs": [
    {
     "name": "stdout",
     "output_type": "stream",
     "text": [
      "[1, 5]\n",
      "[2, 6]\n",
      "[3, 7]\n",
      "[4, 8]\n",
      "\n",
      "[[1 5]\n",
      " [2 6]\n",
      " [3 7]\n",
      " [4 8]]\n"
     ]
    }
   ],
   "source": [
    "my_transp = Matrix([[1,2,3,4],[5,6,7,8]])\n",
    "np_transp = np.array([[1,2,3,4],[5,6,7,8]])\n",
    "print(my_transp.T().printable())\n",
    "print(np_transp.transpose())"
   ]
  },
  {
   "cell_type": "code",
   "execution_count": 82,
   "metadata": {},
   "outputs": [
    {
     "name": "stdout",
     "output_type": "stream",
     "text": [
      "[[  15   24  101   48]\n",
      " [  32   50  137  139]\n",
      " [ 182  290 1147  619]\n",
      " [ 352  550 1507 1529]]\n",
      "\n",
      "[15, 24, 101, 48]\n",
      "[32, 50, 137, 139]\n",
      "[182, 290, 1147, 619]\n",
      "[352, 550, 1507, 1529]\n",
      "\n"
     ]
    }
   ],
   "source": [
    "print(np_matrix1 @ np_matrix2.transpose())\n",
    "print()\n",
    "print((my_matrix1 @ my_matrix2.T()).printable())"
   ]
  },
  {
   "cell_type": "code",
   "execution_count": 83,
   "metadata": {},
   "outputs": [
    {
     "data": {
      "text/plain": [
       "array([[ True,  True,  True],\n",
       "       [ True,  True,  True],\n",
       "       [ True,  True,  True],\n",
       "       [ True,  True,  True]])"
      ]
     },
     "execution_count": 83,
     "metadata": {},
     "output_type": "execute_result"
    }
   ],
   "source": [
    "my_matrix1 == np_matrix1"
   ]
  },
  {
   "cell_type": "code",
   "execution_count": 84,
   "metadata": {},
   "outputs": [
    {
     "name": "stdout",
     "output_type": "stream",
     "text": [
      "Note: you may need to restart the kernel to use updated packages.\n"
     ]
    }
   ],
   "source": [
    "%pip install -q ipytest pytest\n",
    "\n",
    "import ipytest\n",
    "import pytest\n",
    "ipytest.autoconfig()"
   ]
  },
  {
   "cell_type": "code",
   "execution_count": 85,
   "metadata": {},
   "outputs": [
    {
     "name": "stdout",
     "output_type": "stream",
     "text": [
      "\u001b[32m.\u001b[0m\u001b[32m.\u001b[0m\u001b[32m.\u001b[0m\u001b[32m.\u001b[0m\u001b[32m.\u001b[0m\u001b[32m.\u001b[0m\u001b[32m.\u001b[0m\u001b[32m.\u001b[0m\u001b[32m.\u001b[0m\u001b[32m.\u001b[0m\u001b[32m                                                                                   [100%]\u001b[0m\n",
      "\u001b[32m\u001b[32m\u001b[1m10 passed\u001b[0m\u001b[32m in 0.02s\u001b[0m\u001b[0m\n"
     ]
    }
   ],
   "source": [
    "%%ipytest\n",
    "\n",
    "matrix1 = Matrix([\n",
    "    [1, 1, 1],\n",
    "    [1, 2, 3],\n",
    "    [11, 12, 13],\n",
    "    [11, 22, 33]\n",
    "])\n",
    "matrix2 = Matrix([\n",
    "    [4, 5, 6],\n",
    "    [7, 8, 9],\n",
    "    [77, 12, 12],\n",
    "    [2, 1, 45]\n",
    "])\n",
    "\n",
    "\n",
    "@pytest.mark.parametrize(\"matrix1,matrix2\", [[matrix1, matrix2]])\n",
    "def test_matrix_add_matrix(matrix1: Matrix, matrix2: Matrix):\n",
    "    assert (\n",
    "        (matrix1 + matrix2 == (np.array(matrix1.matrix) + np.array(matrix2.matrix))).all()\n",
    "    ), 'add section with matrices is not working right'\n",
    "\n",
    "@pytest.mark.parametrize(\"matrix1,number\", [[matrix1, 13.2]])\n",
    "def test_matrix_add_number(matrix1: Matrix, number: int | float):\n",
    "    assert (\n",
    "        (matrix1 + number == np.array(matrix1.matrix) + number).all()\n",
    "    ), 'add section with matrix and number is not working right'\n",
    "\n",
    "@pytest.mark.parametrize(\"matrix1,matrix2\", [[matrix1, matrix2]])\n",
    "def test_matrix_sub_matrix(matrix1: Matrix, matrix2: Matrix):\n",
    "    assert (\n",
    "        (matrix1 - matrix2 == np.array(matrix1.matrix) - np.array(matrix2.matrix)).all()\n",
    "    ), 'sub section with matrices is not working right'\n",
    "\n",
    "@pytest.mark.parametrize(\"matrix1,number\", [[matrix1, 12.2]])    \n",
    "def test_matrix_sub_number(matrix1: Matrix, number: int | float):\n",
    "    assert (\n",
    "        (matrix1 - number == np.array(matrix1.matrix) - number).all()\n",
    "    ), 'sub section with matrix and number is not working right'\n",
    "\n",
    "@pytest.mark.parametrize(\"matrix1\", [matrix1])    \n",
    "def test_matrix_transpose(matrix1: Matrix):\n",
    "    assert (\n",
    "        (matrix1.T() == np.array(matrix1.matrix).T).all()\n",
    "    ), 'transpose section is not working right'\n",
    "    \n",
    "# -----------------------------------------\n",
    "\n",
    "@pytest.mark.parametrize(\"matrix1,matrix2\", [[matrix1, matrix2]])\n",
    "def test_matrix_mul_matrix(matrix1: Matrix, matrix2: Matrix):\n",
    "    assert (\n",
    "        (matrix1 * matrix2 == np.array(matrix1.matrix) * np.array(matrix2.matrix)).all()\n",
    "    ), 'mul section with matrices is not working right'\n",
    "\n",
    "@pytest.mark.parametrize(\"matrix1,number\", [[matrix1, 13]])\n",
    "def test_matrix_mul_number(matrix1: Matrix, number: int | float):\n",
    "    assert (\n",
    "        (matrix1 * number == np.array(matrix1.matrix) * number).all()\n",
    "    ), 'mul section with matrix and number is not working right'\n",
    "\n",
    "@pytest.mark.parametrize(\"matrix1,matrix2\", [[matrix1, matrix2]])    \n",
    "def test_matrix_div_matrix(matrix1: Matrix, matrix2: Matrix):\n",
    "    assert (\n",
    "        (matrix1 / matrix2 == np.array(matrix1.matrix) / np.array(matrix2.matrix)).all()\n",
    "    ), 'div section with matrices is not working right'\n",
    "\n",
    "@pytest.mark.parametrize(\"matrix1,number\", [[matrix1, 2]])    \n",
    "def test_matrix_div_number(matrix1: Matrix, number: int | float):\n",
    "    assert (\n",
    "        (matrix1 / number == np.array(matrix1.matrix) / number).all()\n",
    "    ), 'div section with matrix and number is not working right'\n",
    "\n",
    "@pytest.mark.parametrize(\"matrix1,matrix2\", [[matrix1, matrix2.T()]])    \n",
    "def test_matrix_matmul_matrix(matrix1: Matrix, matrix2: Matrix):\n",
    "    assert(\n",
    "        (matrix1 @ matrix2 == np.array(matrix1.matrix) @ np.array(matrix2.matrix)).all()\n",
    "    ), 'matmul section is not working right, and don\\'t forget about T() if needed'\n",
    "    \n"
   ]
  },
  {
   "cell_type": "code",
   "execution_count": null,
   "metadata": {},
   "outputs": [],
   "source": []
  }
 ],
 "metadata": {
  "kernelspec": {
   "display_name": "Python 3",
   "language": "python",
   "name": "python3"
  },
  "language_info": {
   "codemirror_mode": {
    "name": "ipython",
    "version": 3
   },
   "file_extension": ".py",
   "mimetype": "text/x-python",
   "name": "python",
   "nbconvert_exporter": "python",
   "pygments_lexer": "ipython3",
   "version": "3.11.5"
  },
  "orig_nbformat": 4
 },
 "nbformat": 4,
 "nbformat_minor": 2
}
