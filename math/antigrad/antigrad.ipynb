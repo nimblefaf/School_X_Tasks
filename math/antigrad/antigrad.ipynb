{
 "cells": [
  {
   "cell_type": "code",
   "execution_count": 1,
   "id": "a0851399-f2e5-44ff-8aab-32380589c009",
   "metadata": {},
   "outputs": [
    {
     "name": "stdout",
     "output_type": "stream",
     "text": [
      "Collecting sympy\n",
      "  Downloading sympy-1.12-py3-none-any.whl (5.7 MB)\n",
      "     ---------------------------------------- 0.0/5.7 MB ? eta -:--:--\n",
      "     ---------------------------------------- 0.0/5.7 MB ? eta -:--:--\n",
      "     ---------------------------------------- 0.0/5.7 MB 393.8 kB/s eta 0:00:15\n",
      "      --------------------------------------- 0.1/5.7 MB 655.4 kB/s eta 0:00:09\n",
      "     - -------------------------------------- 0.2/5.7 MB 1.0 MB/s eta 0:00:06\n",
      "     -- ------------------------------------- 0.4/5.7 MB 1.6 MB/s eta 0:00:04\n",
      "     --- ------------------------------------ 0.6/5.7 MB 2.0 MB/s eta 0:00:03\n",
      "     ------- -------------------------------- 1.0/5.7 MB 3.1 MB/s eta 0:00:02\n",
      "     ------- -------------------------------- 1.1/5.7 MB 3.2 MB/s eta 0:00:02\n",
      "     ------------ --------------------------- 1.7/5.7 MB 4.2 MB/s eta 0:00:01\n",
      "     ---------------- ----------------------- 2.4/5.7 MB 5.0 MB/s eta 0:00:01\n",
      "     ------------------- -------------------- 2.8/5.7 MB 5.4 MB/s eta 0:00:01\n",
      "     ------------------------ --------------- 3.6/5.7 MB 6.3 MB/s eta 0:00:01\n",
      "     ---------------------------- ----------- 4.1/5.7 MB 6.7 MB/s eta 0:00:01\n",
      "     ---------------------------------- ----- 4.9/5.7 MB 7.5 MB/s eta 0:00:01\n",
      "     ---------------------------------------  5.7/5.7 MB 8.2 MB/s eta 0:00:01\n",
      "     ---------------------------------------- 5.7/5.7 MB 7.8 MB/s eta 0:00:00\n",
      "Collecting mpmath>=0.19 (from sympy)\n",
      "  Downloading mpmath-1.3.0-py3-none-any.whl (536 kB)\n",
      "     ---------------------------------------- 0.0/536.2 kB ? eta -:--:--\n",
      "     ------------------------------------- 536.2/536.2 kB 17.0 MB/s eta 0:00:00\n",
      "Installing collected packages: mpmath, sympy\n",
      "Successfully installed mpmath-1.3.0 sympy-1.12\n",
      "Note: you may need to restart the kernel to use updated packages.\n"
     ]
    },
    {
     "name": "stderr",
     "output_type": "stream",
     "text": [
      "  WARNING: The script isympy.exe is installed in 'c:\\Users\\user\\AppData\\Local\\Programs\\Python\\Python311\\Scripts' which is not on PATH.\n",
      "  Consider adding this directory to PATH or, if you prefer to suppress this warning, use --no-warn-script-location.\n"
     ]
    }
   ],
   "source": [
    "%pip install sympy"
   ]
  },
  {
   "cell_type": "code",
   "execution_count": 2,
   "id": "7308ab53",
   "metadata": {},
   "outputs": [],
   "source": [
    "import sympy as sp"
   ]
  },
  {
   "cell_type": "code",
   "execution_count": 3,
   "id": "fba567ef",
   "metadata": {},
   "outputs": [],
   "source": [
    "x = sp.symbols('x')\n"
   ]
  },
  {
   "cell_type": "code",
   "execution_count": 4,
   "id": "71cd0373",
   "metadata": {},
   "outputs": [
    {
     "data": {
      "text/latex": [
       "$\\displaystyle \\left(x - 10\\right)^{2}$"
      ],
      "text/plain": [
       "(x - 10)**2"
      ]
     },
     "execution_count": 4,
     "metadata": {},
     "output_type": "execute_result"
    }
   ],
   "source": [
    "equation = (x-10)**2\n",
    "equation"
   ]
  },
  {
   "cell_type": "code",
   "execution_count": 5,
   "id": "a12fe1d9",
   "metadata": {},
   "outputs": [],
   "source": [
    "def antigrad(x):\n",
    "    return 2 * x - 20"
   ]
  },
  {
   "cell_type": "code",
   "execution_count": 28,
   "id": "ae82bd1c",
   "metadata": {},
   "outputs": [
    {
     "name": "stdout",
     "output_type": "stream",
     "text": [
      "1:  14.0\n",
      "2:  8.4\n",
      "3:  10.64\n",
      "4:  9.744\n",
      "5:  10.1024\n"
     ]
    }
   ],
   "source": [
    "x = 0\n",
    "lr = 0.7\n",
    "for i in range(1, 6):\n",
    "    x = x - lr * antigrad(x)\n",
    "    print(f'{i}:  {x}')"
   ]
  },
  {
   "cell_type": "code",
   "execution_count": 12,
   "id": "219a688e",
   "metadata": {},
   "outputs": [
    {
     "name": "stdout",
     "output_type": "stream",
     "text": [
      "10.64\n"
     ]
    }
   ],
   "source": [
    "print(x)"
   ]
  },
  {
   "cell_type": "code",
   "execution_count": 25,
   "id": "23222eeb",
   "metadata": {},
   "outputs": [
    {
     "data": {
      "text/plain": [
       "-20"
      ]
     },
     "execution_count": 25,
     "metadata": {},
     "output_type": "execute_result"
    }
   ],
   "source": [
    "antigrad(0)"
   ]
  },
  {
   "cell_type": "code",
   "execution_count": null,
   "id": "a07e7cea",
   "metadata": {},
   "outputs": [],
   "source": []
  }
 ],
 "metadata": {
  "kernelspec": {
   "display_name": "Python 3 (ipykernel)",
   "language": "python",
   "name": "python3"
  },
  "language_info": {
   "codemirror_mode": {
    "name": "ipython",
    "version": 3
   },
   "file_extension": ".py",
   "mimetype": "text/x-python",
   "name": "python",
   "nbconvert_exporter": "python",
   "pygments_lexer": "ipython3",
   "version": "3.11.5"
  }
 },
 "nbformat": 4,
 "nbformat_minor": 5
}
